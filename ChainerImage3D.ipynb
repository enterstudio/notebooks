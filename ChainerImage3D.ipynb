{
 "cells": [
  {
   "cell_type": "code",
   "execution_count": 1,
   "metadata": {
    "collapsed": true
   },
   "outputs": [],
   "source": [
    "%matplotlib inline\n",
    "from mpl_toolkits.mplot3d import Axes3D\n",
    "import matplotlib.pyplot as plt\n",
    "import numpy as np\n",
    "from itertools import product, combinations\n",
    "from matplotlib.backends.backend_agg import FigureCanvasAgg as FigureCanvas\n",
    "\n",
    "import chainer\n",
    "import chainer.functions as F\n",
    "import chainer.links as L\n",
    "import chainer.initializers as I\n",
    "\n",
    "from ipywidgets import widgets\n",
    "from ipywidgets.widgets import *\n",
    "from IPython.display import display"
   ]
  },
  {
   "cell_type": "code",
   "execution_count": 37,
   "metadata": {
    "collapsed": false
   },
   "outputs": [
    {
     "data": {
      "image/png": "[encoded data removed]",
      "text/plain": [
       "<matplotlib.figure.Figure at 0x21ca2ce9fd0>"
      ]
     },
     "metadata": {},
     "output_type": "display_data"
    }
   ],
   "source": [
    "points = np.array([[-1, -1, -1],\n",
    "                      [1, -1, -1 ],\n",
    "                      [1, 1, -1],\n",
    "                      [-1, 1, -1],\n",
    "                      [-1, -1, 1],\n",
    "                      [1, -1, 1 ],\n",
    "                      [1, 1, 1],\n",
    "                      [-1, 1, 1]])\n",
    "\n",
    "fig = plt.figure(figsize=(0.35,0.35))\n",
    "canvas = FigureCanvas(fig)\n",
    "ax = fig.add_subplot(111, projection='3d')\n",
    "r = [-1,1]\n",
    "X, Y = np.meshgrid(r, r)\n",
    "ax.plot_surface(X,Y,1)\n",
    "ax.plot_surface(X,Y,-1)\n",
    "ax.plot_surface(X,-1,Y)\n",
    "ax.plot_surface(X,1,Y)\n",
    "ax.plot_surface(1,X,Y)\n",
    "ax.plot_surface(-1,X,Y)\n",
    "plt.axis('off')\n",
    "def get_yaw(i):\n",
    "    return i * np.pi / 2 / 5\n",
    "def get_pitch(i): return i * np.pi / 4 / 5\n",
    "yaw_angles = get_yaw(np.arange(5))\n",
    "pitch_angles = get_pitch(np.arange(5))\n",
    "yaw_mat, pitch_mat = np.meshgrid(yaw_angles, pitch_angles)\n",
    "images = []\n",
    "for pitch in pitch_angles:\n",
    "    for yaw in yaw_angles:\n",
    "        ax.view_init(pitch * 180 / np.pi, yaw * 180 / np.pi)\n",
    "        canvas.draw()\n",
    "        rawimage = np.fromstring(canvas.tostring_rgb(), dtype='uint8')\n",
    "        image = rawimage.reshape((int(np.sqrt(len(rawimage) // 3)), -1, 3))\n",
    "        cropimage = image[4:-4, 4:-4, :]\n",
    "        rawcropimage = np.array(cropimage.flat)\n",
    "        images.append(rawcropimage)"
   ]
  },
  {
   "cell_type": "code",
   "execution_count": 3,
   "metadata": {
    "collapsed": false
   },
   "outputs": [
    {
     "name": "stdout",
     "output_type": "stream",
     "text": [
      "255\n"
     ]
    }
   ],
   "source": [
    "print(np.array(images).max())"
   ]
  },
  {
   "cell_type": "code",
   "execution_count": 38,
   "metadata": {
    "collapsed": false,
    "scrolled": false
   },
   "outputs": [
    {
     "name": "stdout",
     "output_type": "stream",
     "text": [
      "(867,)\n",
      "(17, 17, 3)\n"
     ]
    },
    {
     "data": {
      "image/png": "[encoded data removed]",
      "text/plain": [
       "<matplotlib.figure.Figure at 0x21ca1b4cf28>"
      ]
     },
     "metadata": {},
     "output_type": "display_data"
    }
   ],
   "source": [
    "def plotimg(yaw,pitch):\n",
    "    print(images[yaw + pitch * len(yaw_angles)].shape)\n",
    "    image = images[yaw + pitch * len(yaw_angles)]\n",
    "    img = image.reshape((int(np.sqrt(len(image) // 3)), -1, 3))\n",
    "    print(img.shape)\n",
    "    plt.imshow(img)\n",
    "    k = np.arange(50)\n",
    "\n",
    "interact(plotimg, yaw=(0,len(yaw_angles)-1,1), pitch=(0,len(pitch_angles)-1,1));"
   ]
  },
  {
   "cell_type": "code",
   "execution_count": 5,
   "metadata": {
    "collapsed": false
   },
   "outputs": [],
   "source": [
    "class Regressor(chainer.Chain):\n",
    "    def __init__(self, outputs=1, n_units=128):\n",
    "        super(Regressor, self).__init__(\n",
    "            l1 = L.Linear(None, n_units),\n",
    "            l2 = L.Linear(n_units, outputs)\n",
    "        )\n",
    "\n",
    "    def __call__(self, x):\n",
    "        h1 = F.relu(self.l1(x))\n",
    "        h2 = self.l2(h1)\n",
    "        return h2"
   ]
  },
  {
   "cell_type": "code",
   "execution_count": 53,
   "metadata": {
    "collapsed": true
   },
   "outputs": [],
   "source": [
    "class Regressor2(chainer.Chain):\n",
    "    def __init__(self, outputs=1, n_units=128, output=F.sigmoid):\n",
    "        self.output = output\n",
    "        super(Regressor2, self).__init__(\n",
    "            l1 = L.Linear(None, n_units),\n",
    "            l2 = L.Linear(n_units, n_units),\n",
    "            l3 = L.Linear(n_units, outputs)\n",
    "        )\n",
    "\n",
    "    def __call__(self, x):\n",
    "        h1 = F.relu(self.l1(x))\n",
    "        h2 = F.relu(self.l2(h1))\n",
    "        return self.output(self.l3(h2)) * 255"
   ]
  },
  {
   "cell_type": "code",
   "execution_count": 7,
   "metadata": {
    "collapsed": true
   },
   "outputs": [],
   "source": [
    "class CNNRegressor2(chainer.Chain):\n",
    "    def __init__(self, outputs=1, n_units=128):\n",
    "        super(CNNRegressor2, self).__init__(\n",
    "            conv1 = L.Convolution2D(None, n_units, ksize=3),\n",
    "            l2 = L.Linear(n_units, n_units),\n",
    "            l3 = L.Linear(n_units, outputs)\n",
    "        )\n",
    "\n",
    "    def __call__(self, x):\n",
    "        h1 = self.conv1(x)\n",
    "        h2 = F.relu(self.l2(h1))\n",
    "        return self.l3(h2)"
   ]
  },
  {
   "cell_type": "code",
   "execution_count": 28,
   "metadata": {
    "collapsed": true
   },
   "outputs": [],
   "source": [
    "def run_train(trainx, trainy, epoch=10000, report_period=100, report_period_seconds=0, regularize=0.0001,\n",
    "              model=None, optimizer=None):\n",
    "    from time import clock\n",
    "    start = clock()\n",
    "    last_report = start\n",
    "\n",
    "    if model == None:\n",
    "        model = Regressor2(trainy.shape[1], 512)\n",
    "        model.zerograds()\n",
    "\n",
    "    if optimizer == None:\n",
    "        optimizer = chainer.optimizers.Adam()\n",
    "        optimizer.setup(model)\n",
    "        optimizer.add_hook(chainer.optimizer.WeightDecay(regularize))\n",
    "    loss_hist = []\n",
    "\n",
    "    try:\n",
    "        for i in range(epoch):\n",
    "            loss = F.mean_squared_error(model(trainx), trainy)\n",
    "            loss_hist.append(loss.data)\n",
    "            if i % report_period == 0:\n",
    "                if last_report + report_period_seconds < clock():\n",
    "                    ups = i / (clock() - start)\n",
    "                    eta = (epoch - i) / ups if ups != 0 else 0\n",
    "                    etas = '%d:%05.2f' % (eta // 60, eta % 60) if 60 < eta else '%.2f' % eta\n",
    "                    print(i, 'loss', loss.data, ', ups: %.2f' % ups, ', eta: ' + etas)\n",
    "                    last_report = clock()\n",
    "            #optimizer.weight_decay(0.005)\n",
    "            optimizer.update(lambda x,y: F.mean_squared_error(model(x), y), trainx, trainy)\n",
    "    except KeyboardInterrupt:\n",
    "        print('Interrupted')\n",
    "\n",
    "    return model, loss_hist, optimizer"
   ]
  },
  {
   "cell_type": "code",
   "execution_count": 39,
   "metadata": {
    "collapsed": false
   },
   "outputs": [
    {
     "name": "stdout",
     "output_type": "stream",
     "text": [
      "17\n",
      "(5, 5, 17, 17) (5, 5, 17, 17) 425\n",
      "(7225, 4) image:  (867,)\n",
      "(7225, 4) (7225, 3)\n"
     ]
    }
   ],
   "source": [
    "use_flat = True\n",
    "if use_flat:\n",
    "    x = y = range(int(np.sqrt(len(images[0]) // 3)))\n",
    "    print(len(x))\n",
    "    A, P, X, Y = np.meshgrid(yaw_angles, pitch_angles, x, y)\n",
    "    print(X.shape, Y.shape, A.shape[0] * A.shape[1] * A.shape[2])\n",
    "    APXY = np.vstack([A.flat, P.flat, np.array(X.flat), np.array(Y.flat)]).astype(np.float32).T\n",
    "    trainx = APXY\n",
    "    print(APXY.shape, 'image: ', images[0].shape)\n",
    "    imageXY = np.zeros((trainx.shape[0],3))\n",
    "    i = 0\n",
    "    for image in images:\n",
    "        imageXY[i:(i+image.shape[0]//3),:] = image.reshape((-1,3))\n",
    "        i += image.shape[0]//3\n",
    "    trainy = np.array(imageXY, dtype=np.float32)\n",
    "else:\n",
    "    trainx = np.vstack([yaw_mat.flat, pitch_mat.flat]).astype(np.float32).T\n",
    "    trainy = np.array(images, dtype=np.float32)\n",
    "print(trainx.shape, trainy.shape)\n"
   ]
  },
  {
   "cell_type": "code",
   "execution_count": 59,
   "metadata": {
    "collapsed": false,
    "scrolled": false
   },
   "outputs": [
    {
     "name": "stdout",
     "output_type": "stream",
     "text": [
      "30 loss 19347.75 , ups: 4.17 , eta: 3:52.54\n",
      "60 loss 18804.419921875 , ups: 4.20 , eta: 3:43.91\n",
      "90 loss 17174.271484375 , ups: 4.20 , eta: 3:36.66\n",
      "120 loss 15581.1708984375 , ups: 4.21 , eta: 3:28.81\n",
      "150 loss 15052.7841796875 , ups: 4.22 , eta: 3:21.30\n",
      "180 loss 14935.458984375 , ups: 4.22 , eta: 3:14.17\n",
      "210 loss 14860.3544921875 , ups: 4.23 , eta: 3:06.97\n",
      "230 loss 14829.3564453125 , ups: 4.20 , eta: 3:03.37\n",
      "260 loss 14741.681640625 , ups: 4.20 , eta: 2:56.29\n",
      "290 loss 14691.25390625 , ups: 4.20 , eta: 2:49.15\n",
      "320 loss 14626.859375 , ups: 4.20 , eta: 2:42.00\n",
      "350 loss 14750.619140625 , ups: 4.20 , eta: 2:34.81\n",
      "380 loss 14526.953125 , ups: 4.20 , eta: 2:27.52\n",
      "410 loss 14536.7255859375 , ups: 4.21 , eta: 2:20.28\n",
      "440 loss 14446.7412109375 , ups: 4.21 , eta: 2:13.02\n",
      "470 loss 14522.923828125 , ups: 4.21 , eta: 2:05.93\n",
      "490 loss 14659.248046875 , ups: 4.20 , eta: 2:01.50\n",
      "520 loss 14364.23046875 , ups: 4.20 , eta: 1:54.30\n",
      "550 loss 14381.9091796875 , ups: 4.20 , eta: 1:47.13\n",
      "580 loss 14374.4267578125 , ups: 4.20 , eta: 1:39.97\n",
      "610 loss 14319.7958984375 , ups: 4.20 , eta: 1:32.82\n",
      "640 loss 14281.60546875 , ups: 4.20 , eta: 1:25.62\n",
      "670 loss 14293.857421875 , ups: 4.21 , eta: 1:18.47\n",
      "700 loss 14290.1005859375 , ups: 4.21 , eta: 1:11.34\n",
      "730 loss 14353.0224609375 , ups: 4.20 , eta: 1:04.36\n",
      "760 loss 14303.6171875 , ups: 4.19 , eta: 57.21\n",
      "790 loss 14234.443359375 , ups: 4.20 , eta: 50.04\n",
      "820 loss 14414.4775390625 , ups: 4.20 , eta: 42.88\n",
      "850 loss 14206.173828125 , ups: 4.20 , eta: 35.72\n",
      "880 loss 14249.4873046875 , ups: 4.20 , eta: 28.58\n",
      "910 loss 14207.841796875 , ups: 4.20 , eta: 21.43\n",
      "940 loss 14205.0439453125 , ups: 4.20 , eta: 14.28\n",
      "970 loss 14247.46875 , ups: 4.20 , eta: 7.14\n"
     ]
    }
   ],
   "source": [
    "model, loss_hist, optimizer = run_train(trainx, trainy, epoch=1000, report_period=10, report_period_seconds=5, regularize=0.00001)"
   ]
  },
  {
   "cell_type": "code",
   "execution_count": 72,
   "metadata": {
    "collapsed": false
   },
   "outputs": [
    {
     "name": "stdout",
     "output_type": "stream",
     "text": [
      "10 loss 527.3958740234375 , ups: 1.94 , eta: 8:30.85\n",
      "30 loss 432.30316162109375 , ups: 1.95 , eta: 8:18.10\n",
      "50 loss 349.38397216796875 , ups: 1.98 , eta: 8:00.22\n",
      "70 loss 366.4877624511719 , ups: 2.00 , eta: 7:46.10\n",
      "90 loss 485.3014221191406 , ups: 2.00 , eta: 7:34.03\n",
      "110 loss 469.7373046875 , ups: 2.01 , eta: 7:23.20\n",
      "130 loss 453.2388610839844 , ups: 2.01 , eta: 7:12.17\n",
      "150 loss 319.47491455078125 , ups: 2.01 , eta: 7:02.74\n",
      "170 loss 389.8663024902344 , ups: 2.01 , eta: 6:52.19\n",
      "190 loss 346.74786376953125 , ups: 2.02 , eta: 6:41.44\n",
      "210 loss 378.10809326171875 , ups: 2.02 , eta: 6:30.93\n",
      "230 loss 340.5108337402344 , ups: 2.02 , eta: 6:20.35\n",
      "250 loss 303.6778259277344 , ups: 2.03 , eta: 6:10.02\n",
      "270 loss 448.6180419921875 , ups: 2.03 , eta: 6:00.05\n",
      "290 loss 357.6990966796875 , ups: 2.03 , eta: 5:49.93\n",
      "310 loss 340.9999694824219 , ups: 2.03 , eta: 5:39.94\n",
      "330 loss 359.30438232421875 , ups: 2.03 , eta: 5:29.90\n",
      "350 loss 367.1171875 , ups: 2.03 , eta: 5:19.82\n",
      "370 loss 373.2620544433594 , ups: 2.03 , eta: 5:09.63\n",
      "390 loss 278.61846923828125 , ups: 2.04 , eta: 4:59.54\n",
      "400 loss 303.5855712890625 , ups: 2.03 , eta: 4:55.19\n",
      "420 loss 441.1834411621094 , ups: 2.03 , eta: 4:45.14\n",
      "440 loss 402.921142578125 , ups: 2.04 , eta: 4:34.95\n",
      "460 loss 303.8367614746094 , ups: 2.04 , eta: 4:24.80\n",
      "480 loss 263.7972717285156 , ups: 2.04 , eta: 4:14.73\n"
     ]
    },
    {
     "name": "stderr",
     "output_type": "stream",
     "text": [
      "D:\\Programs\\Anaconda3\\lib\\site-packages\\chainer\\functions\\activation\\relu.py:31: RuntimeWarning: invalid value encountered in maximum\n",
      "  return utils.force_array(numpy.maximum(x[0], 0, dtype=x[0].dtype)),\n",
      "D:\\Programs\\Anaconda3\\lib\\site-packages\\chainer\\functions\\activation\\relu.py:48: RuntimeWarning: invalid value encountered in greater\n",
      "  return utils.force_array(gy[0] * (y > 0)),\n"
     ]
    },
    {
     "name": "stdout",
     "output_type": "stream",
     "text": [
      "500 loss nan , ups: 2.07 , eta: 4:01.93\n",
      "530 loss nan , ups: 2.13 , eta: 3:40.59\n",
      "560 loss nan , ups: 2.19 , eta: 3:21.08\n",
      "590 loss nan , ups: 2.25 , eta: 3:02.56\n",
      "620 loss nan , ups: 2.30 , eta: 2:45.15\n",
      "650 loss nan , ups: 2.35 , eta: 2:28.76\n",
      "680 loss nan , ups: 2.40 , eta: 2:13.22\n",
      "710 loss nan , ups: 2.45 , eta: 1:58.39\n",
      "740 loss nan , ups: 2.50 , eta: 1:44.20\n",
      "770 loss nan , ups: 2.54 , eta: 1:30.59\n",
      "800 loss nan , ups: 2.58 , eta: 1:17.54\n",
      "830 loss nan , ups: 2.62 , eta: 1:04.99\n",
      "860 loss nan , ups: 2.65 , eta: 52.77\n",
      "890 loss nan , ups: 2.69 , eta: 40.89\n",
      "920 loss nan , ups: 2.72 , eta: 29.37\n",
      "950 loss nan , ups: 2.76 , eta: 18.13\n",
      "980 loss nan , ups: 2.79 , eta: 7.17\n"
     ]
    }
   ],
   "source": [
    "model, loss_hist, optimizer = run_train(trainx, trainy, epoch=1000, report_period=10, report_period_seconds=5, regularize=0.00001, model=model, optimizer=optimizer)"
   ]
  },
  {
   "cell_type": "code",
   "execution_count": 71,
   "metadata": {
    "collapsed": true
   },
   "outputs": [],
   "source": [
    "chainer.serializers.save_npz(\"result/image3d3.model\", model)"
   ]
  },
  {
   "cell_type": "code",
   "execution_count": 73,
   "metadata": {
    "collapsed": false
   },
   "outputs": [
    {
     "data": {
      "image/png": "[encoded data removed]",
      "text/plain": [
       "<matplotlib.figure.Figure at 0x21ca55963c8>"
      ]
     },
     "metadata": {},
     "output_type": "display_data"
    }
   ],
   "source": [
    "plt.semilogy(loss_hist)\n",
    "plt.grid()"
   ]
  },
  {
   "cell_type": "code",
   "execution_count": 17,
   "metadata": {
    "collapsed": false,
    "scrolled": false
   },
   "outputs": [
    {
     "name": "stdout",
     "output_type": "stream",
     "text": [
      "(1, 6912) 5.31971e-05 255.0\n"
     ]
    },
    {
     "data": {
      "image/png": "[encoded data removed]",
      "text/plain": [
       "<matplotlib.figure.Figure at 0x21ca2c08b00>"
      ]
     },
     "metadata": {},
     "output_type": "display_data"
    }
   ],
   "source": [
    "def plotimg(yaw,pitch):\n",
    "    predicted = model(np.array([get_yaw(yaw), get_pitch(pitch)], dtype=np.float32)[np.newaxis]).data\n",
    "    print(predicted.shape, predicted.min(), predicted.max())\n",
    "    xs = int(np.sqrt(predicted.shape[1] // 3))\n",
    "    img = predicted.reshape((xs, -1, 3))\n",
    "    fig, ax = plt.subplots(1, 3, figsize=(9,3))\n",
    "    ax[0].imshow(img / 255)\n",
    "    if 0 <= yaw and yaw < len(yaw_angles) and 0 <= pitch and pitch < len(pitch_angles):\n",
    "        image = images[yaw + pitch * len(yaw_angles)]\n",
    "        img2 = image.reshape((int(np.sqrt(len(image) // 3)), -1, 3))\n",
    "        ax[1].imshow(img2)\n",
    "        ax[2].hist(img2.flat, histtype='step')\n",
    "    ax[2].hist(predicted.flat, histtype='step')\n",
    "    ax[2].legend(['predicted', 'trainer'])\n",
    "\n",
    "interact(plotimg, yaw=(-10,len(yaw_angles)+10,1), pitch=(-10,len(pitch_angles)+10,1));"
   ]
  },
  {
   "cell_type": "code",
   "execution_count": 70,
   "metadata": {
    "collapsed": false
   },
   "outputs": [
    {
     "name": "stdout",
     "output_type": "stream",
     "text": [
      "(289, 3) 17 5\n",
      "(17, 17, 3)\n"
     ]
    },
    {
     "data": {
      "image/png": "[encoded data removed]",
      "text/plain": [
       "<matplotlib.figure.Figure at 0x21ca5ae0400>"
      ]
     },
     "metadata": {},
     "output_type": "display_data"
    }
   ],
   "source": [
    "def plotimg(yaw,pitch):\n",
    "    X, Y = np.meshgrid(x,y)\n",
    "    XYA = np.vstack([np.ones(X.shape[0] * X.shape[1]) * yaw_angles[yaw],\n",
    "                     np.ones(X.shape[0] * X.shape[1]) * pitch_angles[pitch],\n",
    "                     np.array(X.flat), np.array(Y.flat)]).astype(np.float32).T\n",
    "    predicted = model(XYA).data\n",
    "    xs = int(np.sqrt(len(images[0]) // 3))\n",
    "    print(predicted.shape, xs, predicted.shape[0] // (3 * xs))\n",
    "    img = predicted.reshape((xs, -1, 3))\n",
    "    print(img.shape)\n",
    "    fig, ax = plt.subplots(1, 3, figsize=(9,3))\n",
    "    ax[0].imshow(img / 255)\n",
    "    if 0 <= yaw and yaw < len(yaw_angles) and 0 <= pitch and pitch < len(pitch_angles):\n",
    "        image = images[yaw + pitch * len(yaw_angles)]\n",
    "        img2 = image.reshape((int(np.sqrt(len(image) // 3)), -1, 3))\n",
    "        ax[1].imshow(img2)\n",
    "        ax[2].hist(img2.flat, histtype='step')\n",
    "    ax[2].hist(predicted.flat, histtype='step')\n",
    "    ax[2].legend(['predicted', 'trainer'])\n",
    "\n",
    "interact(plotimg, yaw=(0,len(yaw_angles)-1,1), pitch=(0,len(pitch_angles)-1,1));"
   ]
  }
 ],
 "metadata": {
  "kernelspec": {
   "display_name": "Python 3",
   "language": "python",
   "name": "python3"
  },
  "language_info": {
   "codemirror_mode": {
    "name": "ipython",
    "version": 3
   },
   "file_extension": ".py",
   "mimetype": "text/x-python",
   "name": "python",
   "nbconvert_exporter": "python",
   "pygments_lexer": "ipython3",
   "version": "3.6.0"
  },
  "widgets": {
   "state": {
    "42fb23644f964727bd7881ea6f68447f": {
     "views": [
      {
       "cell_index": 14
      }
     ]
    },
    "636ef9fbd73c4d44b80b91ce900736e7": {
     "views": [
      {
       "cell_index": 12
      }
     ]
    },
    "9b92f0132c0a4b42b434739db467bf25": {
     "views": [
      {
       "cell_index": 3
      }
     ]
    }
   },
   "version": "1.2.0"
  }
 },
 "nbformat": 4,
 "nbformat_minor": 2
}
