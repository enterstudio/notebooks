{
 "cells": [
  {
   "cell_type": "code",
   "execution_count": 1,
   "metadata": {
    "collapsed": true
   },
   "outputs": [],
   "source": [
    "%matplotlib inline\n",
    "from mpl_toolkits.mplot3d import Axes3D\n",
    "import matplotlib.pyplot as plt\n",
    "import numpy as np\n",
    "from itertools import product, combinations\n",
    "from matplotlib.backends.backend_agg import FigureCanvasAgg as FigureCanvas\n",
    "\n",
    "import chainer\n",
    "import chainer.functions as F\n",
    "import chainer.links as L\n",
    "import chainer.initializers as I\n",
    "\n",
    "from ipywidgets import widgets\n",
    "from ipywidgets.widgets import *\n",
    "from IPython.display import display"
   ]
  },
  {
   "cell_type": "code",
   "execution_count": 2,
   "metadata": {
    "collapsed": false
   },
   "outputs": [
    {
     "data": {
      "image/png": "[encoded data removed]",
      "text/plain": [
       "<matplotlib.figure.Figure at 0x21ca14b1588>"
      ]
     },
     "metadata": {},
     "output_type": "display_data"
    }
   ],
   "source": [
    "points = np.array([[-1, -1, -1],\n",
    "                      [1, -1, -1 ],\n",
    "                      [1, 1, -1],\n",
    "                      [-1, 1, -1],\n",
    "                      [-1, -1, 1],\n",
    "                      [1, -1, 1 ],\n",
    "                      [1, 1, 1],\n",
    "                      [-1, 1, 1]])\n",
    "\n",
    "fig = plt.figure(figsize=(1,1))\n",
    "canvas = FigureCanvas(fig)\n",
    "ax = fig.add_subplot(111, projection='3d')\n",
    "r = [-1,1]\n",
    "X, Y = np.meshgrid(r, r)\n",
    "ax.plot_surface(X,Y,1)\n",
    "ax.plot_surface(X,Y,-1)\n",
    "ax.plot_surface(X,-1,Y)\n",
    "ax.plot_surface(X,1,Y)\n",
    "ax.plot_surface(1,X,Y)\n",
    "ax.plot_surface(-1,X,Y)\n",
    "plt.axis('off')\n",
    "def get_yaw(i):\n",
    "    return i * np.pi / 2 / 30\n",
    "def get_pitch(i): return i * np.pi / 4 / 30\n",
    "yaw_angles = get_yaw(np.arange(30))\n",
    "pitch_angles = get_pitch(np.arange(30))\n",
    "yaw_mat, pitch_mat = np.meshgrid(yaw_angles, pitch_angles)\n",
    "images = []\n",
    "for pitch in pitch_angles:\n",
    "    for yaw in yaw_angles:\n",
    "        ax.view_init(pitch * 180 / np.pi, yaw * 180 / np.pi)\n",
    "        canvas.draw()\n",
    "        rawimage = np.fromstring(canvas.tostring_rgb(), dtype='uint8')\n",
    "        image = rawimage.reshape((int(np.sqrt(len(rawimage) // 3)), -1, 3))\n",
    "        cropimage = image[12:-12, 12:-12, :]\n",
    "        rawcropimage = np.array(cropimage.flat)\n",
    "        images.append(rawcropimage)"
   ]
  },
  {
   "cell_type": "code",
   "execution_count": 3,
   "metadata": {
    "collapsed": false
   },
   "outputs": [
    {
     "name": "stdout",
     "output_type": "stream",
     "text": [
      "255\n"
     ]
    }
   ],
   "source": [
    "print(np.array(images).max())"
   ]
  },
  {
   "cell_type": "code",
   "execution_count": 4,
   "metadata": {
    "collapsed": false,
    "scrolled": false
   },
   "outputs": [
    {
     "name": "stdout",
     "output_type": "stream",
     "text": [
      "(6912,)\n",
      "(48, 48, 3)\n"
     ]
    },
    {
     "data": {
      "image/png": "[encoded data removed]",
      "text/plain": [
       "<matplotlib.figure.Figure at 0x21ca1b1a0f0>"
      ]
     },
     "metadata": {},
     "output_type": "display_data"
    }
   ],
   "source": [
    "def plotimg(yaw,pitch):\n",
    "    print(images[yaw + pitch * len(yaw_angles)].shape)\n",
    "    image = images[yaw + pitch * len(yaw_angles)]\n",
    "    img = image.reshape((int(np.sqrt(len(image) // 3)), -1, 3))\n",
    "    print(img.shape)\n",
    "    plt.imshow(img)\n",
    "    k = np.arange(50)\n",
    "\n",
    "interact(plotimg, yaw=(0,len(yaw_angles)-1,1), pitch=(0,len(pitch_angles)-1,1));"
   ]
  },
  {
   "cell_type": "code",
   "execution_count": 5,
   "metadata": {
    "collapsed": false
   },
   "outputs": [],
   "source": [
    "class Regressor(chainer.Chain):\n",
    "    def __init__(self, outputs=1, n_units=128):\n",
    "        super(Regressor, self).__init__(\n",
    "            l1 = L.Linear(None, n_units),\n",
    "            l2 = L.Linear(n_units, outputs)\n",
    "        )\n",
    "\n",
    "    def __call__(self, x):\n",
    "        h1 = F.relu(self.l1(x))\n",
    "        h2 = self.l2(h1)\n",
    "        return h2"
   ]
  },
  {
   "cell_type": "code",
   "execution_count": 6,
   "metadata": {
    "collapsed": true
   },
   "outputs": [],
   "source": [
    "class Regressor2(chainer.Chain):\n",
    "    def __init__(self, outputs=1, n_units=128):\n",
    "        super(Regressor2, self).__init__(\n",
    "            l1 = L.Linear(None, n_units),\n",
    "            l2 = L.Linear(n_units, n_units),\n",
    "            l3 = L.Linear(n_units, outputs)\n",
    "        )\n",
    "\n",
    "    def __call__(self, x):\n",
    "        h1 = F.relu(self.l1(x))\n",
    "        h2 = F.relu(self.l2(h1))\n",
    "        return F.sigmoid(self.l3(h2)) * 255"
   ]
  },
  {
   "cell_type": "code",
   "execution_count": 7,
   "metadata": {
    "collapsed": true
   },
   "outputs": [],
   "source": [
    "class CNNRegressor2(chainer.Chain):\n",
    "    def __init__(self, outputs=1, n_units=128):\n",
    "        super(CNNRegressor2, self).__init__(\n",
    "            conv1 = L.Convolution2D(None, n_units, ksize=3),\n",
    "            l2 = L.Linear(n_units, n_units),\n",
    "            l3 = L.Linear(n_units, outputs)\n",
    "        )\n",
    "\n",
    "    def __call__(self, x):\n",
    "        h1 = self.conv1(x)\n",
    "        h2 = F.relu(self.l2(h1))\n",
    "        return self.l3(h2)"
   ]
  },
  {
   "cell_type": "code",
   "execution_count": 8,
   "metadata": {
    "collapsed": true
   },
   "outputs": [],
   "source": [
    "def run_train(trainx, trainy, epoch=10000, report_period=100, report_period_seconds=0, regularize=0.0001,\n",
    "              model=None, optimizer=None):\n",
    "    from time import clock\n",
    "    start = clock()\n",
    "    last_report = start\n",
    "\n",
    "    if model == None:\n",
    "        model = Regressor2(trainy.shape[1], 512)\n",
    "        model.zerograds()\n",
    "\n",
    "    if optimizer == None:\n",
    "        optimizer = chainer.optimizers.Adam()\n",
    "        optimizer.setup(model)\n",
    "        optimizer.add_hook(chainer.optimizer.WeightDecay(regularize))\n",
    "    loss_hist = []\n",
    "\n",
    "    for i in range(epoch):\n",
    "        loss = F.mean_squared_error(model(trainx), trainy)\n",
    "        loss_hist.append(loss.data)\n",
    "        if i % report_period == 0:\n",
    "            if last_report + report_period_seconds < clock():\n",
    "                ups = i / (clock() - start)\n",
    "                eta = (epoch - i) / ups if ups != 0 else 0\n",
    "                etas = '%d:%05.2f' % (eta // 60, eta % 60) if 60 < eta else '%.2f' % eta\n",
    "                print(i, 'loss', loss.data, ', ups: %.2f' % ups, ', eta: ' + etas)\n",
    "                last_report = clock()\n",
    "        #optimizer.weight_decay(0.005)\n",
    "        optimizer.update(lambda x,y: F.mean_squared_error(model(x), y), trainx, trainy)\n",
    "\n",
    "    return model, loss_hist, optimizer"
   ]
  },
  {
   "cell_type": "code",
   "execution_count": 9,
   "metadata": {
    "collapsed": false
   },
   "outputs": [
    {
     "name": "stdout",
     "output_type": "stream",
     "text": [
      "(900, 2) (900, 6912)\n"
     ]
    }
   ],
   "source": [
    "use_flat = False\n",
    "if use_flat:\n",
    "    x = y = range(int(np.sqrt(len(images[0]) // 3)))\n",
    "    print(len(x))\n",
    "    A, X, Y = np.meshgrid(angles, x, y)\n",
    "    print(X.shape, Y.shape, A.shape[0] * A.shape[1] * A.shape[2])\n",
    "    fXY = np.vstack([A.flat, np.array(X.flat), np.array(Y.flat)])\n",
    "    trainx = np.array(fXY, dtype=np.float32).T / max(angles)\n",
    "    print(fXY[1:,:].shape, 'image: ', images[0].shape)\n",
    "    imageXY = np.zeros((trainx.shape[0],3))\n",
    "    i = 0\n",
    "    for image in images:\n",
    "        imageXY[i:(i+image.shape[0]//3),:] = image.reshape((-1,3))\n",
    "        i += image.shape[0]//3\n",
    "    trainy = np.array(imageXY, dtype=np.float32)\n",
    "else:\n",
    "    trainx = np.vstack([yaw_mat.flat, pitch_mat.flat]).astype(np.float32).T\n",
    "    trainy = np.array(images, dtype=np.float32)\n",
    "print(trainx.shape, trainy.shape)\n"
   ]
  },
  {
   "cell_type": "code",
   "execution_count": 10,
   "metadata": {
    "collapsed": false,
    "scrolled": false
   },
   "outputs": [
    {
     "name": "stdout",
     "output_type": "stream",
     "text": [
      "10 loss 2823.37841796875 , ups: 1.70 , eta: 9:40.69\n",
      "20 loss 2206.581298828125 , ups: 1.64 , eta: 9:58.90\n",
      "30 loss 1883.0850830078125 , ups: 1.63 , eta: 9:56.77\n",
      "40 loss 1665.369873046875 , ups: 1.62 , eta: 9:51.49\n",
      "50 loss 1515.438720703125 , ups: 1.62 , eta: 9:46.47\n",
      "60 loss 1400.591552734375 , ups: 1.62 , eta: 9:39.09\n",
      "70 loss 1294.40869140625 , ups: 1.62 , eta: 9:32.47\n",
      "80 loss 1177.2098388671875 , ups: 1.63 , eta: 9:25.84\n",
      "90 loss 1054.0372314453125 , ups: 1.62 , eta: 9:20.13\n",
      "100 loss 945.4100952148438 , ups: 1.62 , eta: 9:13.85\n",
      "110 loss 855.0663452148438 , ups: 1.63 , eta: 9:07.35\n",
      "120 loss 776.1846923828125 , ups: 1.63 , eta: 9:01.37\n",
      "130 loss 705.9933471679688 , ups: 1.63 , eta: 8:55.06\n",
      "140 loss 646.392333984375 , ups: 1.63 , eta: 8:48.75\n",
      "150 loss 595.8480834960938 , ups: 1.62 , eta: 8:43.30\n",
      "160 loss 554.7085571289062 , ups: 1.63 , eta: 8:36.60\n",
      "170 loss 520.92236328125 , ups: 1.63 , eta: 8:30.21\n",
      "180 loss 492.98089599609375 , ups: 1.63 , eta: 8:24.01\n",
      "190 loss 469.03204345703125 , ups: 1.63 , eta: 8:17.71\n",
      "200 loss 448.5018005371094 , ups: 1.63 , eta: 8:11.30\n",
      "210 loss 432.4395751953125 , ups: 1.63 , eta: 8:04.75\n",
      "220 loss 415.1299133300781 , ups: 1.63 , eta: 7:58.52\n",
      "230 loss 400.8988342285156 , ups: 1.63 , eta: 7:52.17\n",
      "240 loss 386.433837890625 , ups: 1.63 , eta: 7:45.77\n",
      "250 loss 371.5092468261719 , ups: 1.63 , eta: 7:39.45\n",
      "260 loss 359.21282958984375 , ups: 1.63 , eta: 7:33.07\n",
      "270 loss 345.108154296875 , ups: 1.63 , eta: 7:26.86\n",
      "280 loss 333.21929931640625 , ups: 1.63 , eta: 7:20.65\n",
      "290 loss 324.127197265625 , ups: 1.63 , eta: 7:15.30\n",
      "300 loss 313.7416076660156 , ups: 1.63 , eta: 7:08.98\n",
      "310 loss 306.2822570800781 , ups: 1.63 , eta: 7:02.71\n",
      "320 loss 297.1142272949219 , ups: 1.63 , eta: 6:56.43\n",
      "330 loss 290.682373046875 , ups: 1.63 , eta: 6:50.13\n",
      "340 loss 284.1289367675781 , ups: 1.63 , eta: 6:43.94\n",
      "350 loss 277.640869140625 , ups: 1.63 , eta: 6:37.73\n",
      "360 loss 273.7685546875 , ups: 1.64 , eta: 6:31.42\n",
      "370 loss 267.7179870605469 , ups: 1.64 , eta: 6:25.08\n",
      "380 loss 262.62451171875 , ups: 1.64 , eta: 6:18.88\n",
      "390 loss 258.1178283691406 , ups: 1.63 , eta: 6:13.21\n",
      "400 loss 255.7108612060547 , ups: 1.64 , eta: 6:06.95\n",
      "410 loss 251.96945190429688 , ups: 1.64 , eta: 6:00.80\n",
      "420 loss 249.8815155029297 , ups: 1.64 , eta: 5:54.56\n",
      "430 loss 246.86019897460938 , ups: 1.64 , eta: 5:48.27\n",
      "440 loss 242.9629669189453 , ups: 1.64 , eta: 5:42.01\n",
      "450 loss 240.23321533203125 , ups: 1.64 , eta: 5:35.73\n",
      "460 loss 239.6309051513672 , ups: 1.64 , eta: 5:29.52\n",
      "470 loss 238.26522827148438 , ups: 1.64 , eta: 5:23.29\n",
      "480 loss 234.19479370117188 , ups: 1.64 , eta: 5:17.11\n",
      "490 loss 232.90501403808594 , ups: 1.64 , eta: 5:11.35\n",
      "500 loss 230.62770080566406 , ups: 1.64 , eta: 5:05.14\n",
      "510 loss 228.89181518554688 , ups: 1.64 , eta: 4:58.98\n",
      "520 loss 227.29959106445312 , ups: 1.64 , eta: 4:52.82\n",
      "530 loss 226.76385498046875 , ups: 1.64 , eta: 4:46.60\n",
      "540 loss 230.24464416503906 , ups: 1.64 , eta: 4:40.46\n",
      "550 loss 223.88720703125 , ups: 1.64 , eta: 4:34.34\n",
      "560 loss 221.60939025878906 , ups: 1.64 , eta: 4:28.26\n",
      "570 loss 220.51025390625 , ups: 1.64 , eta: 4:22.16\n",
      "580 loss 219.23983764648438 , ups: 1.64 , eta: 4:16.18\n",
      "590 loss 218.54046630859375 , ups: 1.64 , eta: 4:10.12\n",
      "600 loss 221.39483642578125 , ups: 1.64 , eta: 4:04.02\n",
      "610 loss 217.2721405029297 , ups: 1.64 , eta: 3:57.96\n",
      "620 loss 215.24786376953125 , ups: 1.64 , eta: 3:51.87\n",
      "630 loss 213.95530700683594 , ups: 1.64 , eta: 3:45.78\n",
      "640 loss 212.62132263183594 , ups: 1.64 , eta: 3:39.69\n",
      "650 loss 211.84884643554688 , ups: 1.64 , eta: 3:33.58\n",
      "660 loss 218.66090393066406 , ups: 1.64 , eta: 3:27.49\n",
      "670 loss 214.54518127441406 , ups: 1.64 , eta: 3:21.40\n",
      "680 loss 209.0837860107422 , ups: 1.64 , eta: 3:15.31\n",
      "690 loss 208.4517059326172 , ups: 1.64 , eta: 3:09.36\n",
      "700 loss 206.95980834960938 , ups: 1.64 , eta: 3:03.26\n",
      "710 loss 206.11354064941406 , ups: 1.64 , eta: 2:57.16\n",
      "720 loss 205.3009033203125 , ups: 1.64 , eta: 2:51.03\n",
      "730 loss 204.50115966796875 , ups: 1.64 , eta: 2:44.92\n",
      "740 loss 204.52980041503906 , ups: 1.64 , eta: 2:38.78\n",
      "750 loss 211.77882385253906 , ups: 1.64 , eta: 2:32.66\n",
      "760 loss 203.96250915527344 , ups: 1.64 , eta: 2:26.53\n",
      "770 loss 201.76583862304688 , ups: 1.64 , eta: 2:20.40\n",
      "780 loss 201.09329223632812 , ups: 1.64 , eta: 2:14.31\n",
      "790 loss 200.2703857421875 , ups: 1.64 , eta: 2:08.26\n",
      "800 loss 199.631103515625 , ups: 1.64 , eta: 2:02.14\n",
      "810 loss 198.9469757080078 , ups: 1.64 , eta: 1:56.01\n",
      "820 loss 199.5181121826172 , ups: 1.64 , eta: 1:49.88\n",
      "830 loss 203.7301788330078 , ups: 1.64 , eta: 1:43.75\n",
      "840 loss 197.91629028320312 , ups: 1.64 , eta: 1:37.64\n",
      "850 loss 197.91607666015625 , ups: 1.64 , eta: 1:31.51\n",
      "860 loss 196.04197692871094 , ups: 1.64 , eta: 1:25.40\n",
      "870 loss 195.45782470703125 , ups: 1.64 , eta: 1:19.29\n",
      "880 loss 194.90740966796875 , ups: 1.64 , eta: 1:13.20\n",
      "890 loss 194.38714599609375 , ups: 1.64 , eta: 1:07.11\n",
      "900 loss 193.93812561035156 , ups: 1.64 , eta: 1:01.00\n",
      "910 loss 196.16485595703125 , ups: 1.64 , eta: 54.89\n",
      "920 loss 193.3501434326172 , ups: 1.64 , eta: 48.79\n",
      "930 loss 194.05313110351562 , ups: 1.64 , eta: 42.69\n",
      "940 loss 192.4636688232422 , ups: 1.64 , eta: 36.59\n",
      "950 loss 191.693359375 , ups: 1.64 , eta: 30.49\n",
      "960 loss 191.00253295898438 , ups: 1.64 , eta: 24.39\n",
      "970 loss 190.4656524658203 , ups: 1.64 , eta: 18.29\n",
      "980 loss 190.61184692382812 , ups: 1.64 , eta: 12.20\n",
      "990 loss 195.50123596191406 , ups: 1.64 , eta: 6.10\n"
     ]
    }
   ],
   "source": [
    "model, loss_hist, optimizer = run_train(trainx, trainy, epoch=1000, report_period=10, report_period_seconds=5, regularize=0.00001)"
   ]
  },
  {
   "cell_type": "code",
   "execution_count": 15,
   "metadata": {
    "collapsed": true
   },
   "outputs": [],
   "source": [
    "chainer.serializers.save_npz(\"result/image3d2.model\", model)"
   ]
  },
  {
   "cell_type": "code",
   "execution_count": 11,
   "metadata": {
    "collapsed": false
   },
   "outputs": [
    {
     "data": {
      "image/png": "[encoded data removed]",
      "text/plain": [
       "<matplotlib.figure.Figure at 0x21ca2cd5c18>"
      ]
     },
     "metadata": {},
     "output_type": "display_data"
    }
   ],
   "source": [
    "plt.semilogy(loss_hist)\n",
    "plt.grid()"
   ]
  },
  {
   "cell_type": "code",
   "execution_count": 17,
   "metadata": {
    "collapsed": false,
    "scrolled": false
   },
   "outputs": [
    {
     "name": "stdout",
     "output_type": "stream",
     "text": [
      "(1, 6912) 5.31971e-05 255.0\n"
     ]
    },
    {
     "data": {
      "image/png": "[encoded data removed]",
      "text/plain": [
       "<matplotlib.figure.Figure at 0x21ca2c08b00>"
      ]
     },
     "metadata": {},
     "output_type": "display_data"
    }
   ],
   "source": [
    "def plotimg(yaw,pitch):\n",
    "    predicted = model(np.array([get_yaw(yaw), get_pitch(pitch)], dtype=np.float32)[np.newaxis]).data\n",
    "    print(predicted.shape, predicted.min(), predicted.max())\n",
    "    xs = int(np.sqrt(predicted.shape[1] // 3))\n",
    "    img = predicted.reshape((xs, -1, 3))\n",
    "    fig, ax = plt.subplots(1, 3, figsize=(9,3))\n",
    "    ax[0].imshow(img / 255)\n",
    "    if 0 <= yaw and yaw < len(yaw_angles) and 0 <= pitch and pitch < len(pitch_angles):\n",
    "        image = images[yaw + pitch * len(yaw_angles)]\n",
    "        img2 = image.reshape((int(np.sqrt(len(image) // 3)), -1, 3))\n",
    "        ax[1].imshow(img2)\n",
    "        ax[2].hist(img2.flat, histtype='step')\n",
    "    ax[2].hist(predicted.flat, histtype='step')\n",
    "    ax[2].legend(['predicted', 'trainer'])\n",
    "\n",
    "interact(plotimg, yaw=(-10,len(yaw_angles)+10,1), pitch=(-10,len(pitch_angles)+10,1));"
   ]
  },
  {
   "cell_type": "code",
   "execution_count": 249,
   "metadata": {
    "collapsed": false
   },
   "outputs": [
    {
     "name": "stdout",
     "output_type": "stream",
     "text": [
      "[[  0.           0.           0.52631581]\n",
      " [  1.           0.           0.52631581]\n",
      " [  2.           0.           0.52631581]\n",
      " ..., \n",
      " [ 21.          23.           0.52631581]\n",
      " [ 22.          23.           0.52631581]\n",
      " [ 23.          23.           0.52631581]]\n",
      "(576, 3) 24 8\n",
      "(24, 24, 3)\n"
     ]
    },
    {
     "data": {
      "image/png": "[encoded data removed]",
      "text/plain": [
       "<matplotlib.figure.Figure at 0x2293b1efa90>"
      ]
     },
     "metadata": {},
     "output_type": "display_data"
    }
   ],
   "source": [
    "def plotimg(iangle):\n",
    "    X, Y = np.meshgrid(x,y)\n",
    "    XYA = np.vstack([np.array(X.flat), np.array(Y.flat),\n",
    "                    np.ones(X.shape[0] * X.shape[1]) * angles[iangle] / max(angles)]).astype(np.float32).T\n",
    "    predicted = model(XYA).data\n",
    "    xs = int(np.sqrt(len(images[0]) // 3))\n",
    "    print(predicted.shape, xs, predicted.shape[0] // (3 * xs))\n",
    "    img = predicted.reshape((xs, -1, 3))\n",
    "    print(img.shape)\n",
    "    fig, ax = plt.subplots(1,2)\n",
    "    ax[0].imshow(img)\n",
    "    image = images[iangle]\n",
    "    img = image.reshape((int(np.sqrt(len(image) // 3)), -1, 3))\n",
    "    ax[1].imshow(img)\n",
    "\n",
    "interact(plotimg, iangle=(0,len(angles)-1,1));"
   ]
  }
 ],
 "metadata": {
  "kernelspec": {
   "display_name": "Python 3",
   "language": "python",
   "name": "python3"
  },
  "language_info": {
   "codemirror_mode": {
    "name": "ipython",
    "version": 3
   },
   "file_extension": ".py",
   "mimetype": "text/x-python",
   "name": "python",
   "nbconvert_exporter": "python",
   "pygments_lexer": "ipython3",
   "version": "3.6.0"
  },
  "widgets": {
   "state": {
    "636ef9fbd73c4d44b80b91ce900736e7": {
     "views": [
      {
       "cell_index": 12
      }
     ]
    },
    "96320c3d59324ce487b6b3f7cf2424f7": {
     "views": [
      {
       "cell_index": 3
      }
     ]
    },
    "f95e428a81d449958faa4b9b1416d93d": {
     "views": [
      {
       "cell_index": 13
      }
     ]
    }
   },
   "version": "1.2.0"
  }
 },
 "nbformat": 4,
 "nbformat_minor": 2
}
