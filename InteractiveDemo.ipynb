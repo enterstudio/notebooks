{
 "cells": [
  {
   "cell_type": "code",
   "execution_count": 5,
   "metadata": {
    "collapsed": true
   },
   "outputs": [],
   "source": [
    "%matplotlib inline\n",
    "import numpy as np\n",
    "import scipy as sp\n",
    "import scipy.stats\n",
    "import matplotlib.pyplot as plt\n",
    "\n",
    "from ipywidgets import widgets\n",
    "from IPython.display import display"
   ]
  },
  {
   "cell_type": "code",
   "execution_count": 4,
   "metadata": {
    "collapsed": false
   },
   "outputs": [
    {
     "name": "stdout",
     "output_type": "stream",
     "text": [
      "asv\n",
      "asvzzxc\n",
      "asvzzxcq34\n"
     ]
    }
   ],
   "source": [
    "text = widgets.Text()\n",
    "display(text)\n",
    "\n",
    "def handle_submit(sender):\n",
    "    print(text.value)\n",
    "\n",
    "text.on_submit(handle_submit)"
   ]
  },
  {
   "cell_type": "code",
   "execution_count": 22,
   "metadata": {
    "collapsed": false,
    "scrolled": true
   },
   "outputs": [
    {
     "data": {
      "image/png": "[encoded data removed]",
      "text/plain": [
       "<matplotlib.figure.Figure at 0x2991cebfcc0>"
      ]
     },
     "metadata": {},
     "output_type": "display_data"
    }
   ],
   "source": [
    "from ipywidgets.widgets import *\n",
    "t = np.arange(0., 1., 0.01)\n",
    "a_ = 1\n",
    "f_ = 1\n",
    "\n",
    "def pltsin(a,f):\n",
    "    fig, ax = plt.subplots()\n",
    "    ax.plot(t, a * np.sin(2*np.pi*f*t));\n",
    "    ax.set_ylim([-10,10])\n",
    "    plt.show()\n",
    "\n",
    "def change_f(f):\n",
    "    global a_, f_\n",
    "    f_ = f\n",
    "    pltsin(a_,f)\n",
    "\n",
    "def change_a(a):\n",
    "    global a_, f_\n",
    "    a_ = a\n",
    "    pltsin(a_,f_)\n",
    "\n",
    "interact(change_f, f=(1,10,0.1))\n",
    "interact(change_a, a=(1,10,0.1))"
   ]
  }
 ],
 "metadata": {
  "kernelspec": {
   "display_name": "Python 3",
   "language": "python",
   "name": "python3"
  },
  "language_info": {
   "codemirror_mode": {
    "name": "ipython",
    "version": 3
   },
   "file_extension": ".py",
   "mimetype": "text/x-python",
   "name": "python",
   "nbconvert_exporter": "python",
   "pygments_lexer": "ipython3",
   "version": "3.6.0"
  },
  "widgets": {
   "state": {
    "0d20b6d0adc2491781297ec25f0cd326": {
     "views": [
      {
       "cell_index": 2
      }
     ]
    },
    "17c325123e1b4dc4a3b4a23b11462ff6": {
     "views": [
      {
       "cell_index": 2
      }
     ]
    },
    "1b9be1bcc23f4c4e8e59632bfdbc2e21": {
     "views": [
      {
       "cell_index": 2
      }
     ]
    },
    "36f79fc2d4214a7591f61b68854d7ad4": {
     "views": [
      {
       "cell_index": 2
      }
     ]
    },
    "6210453480e7415d9720ad53388b0309": {
     "views": [
      {
       "cell_index": 2
      }
     ]
    },
    "7ccc526d9afe4fa8b8f620a95eba5d53": {
     "views": [
      {
       "cell_index": 1
      }
     ]
    },
    "7f5b55b7270440398986557adf95ae92": {
     "views": [
      {
       "cell_index": 2
      }
     ]
    },
    "83edfe009053488fa99414fa964ed539": {
     "views": [
      {
       "cell_index": 2
      }
     ]
    },
    "cd6b6064700443c4bc321b61c8cd2e63": {
     "views": [
      {
       "cell_index": 2
      }
     ]
    },
    "d85e88b523a14ce1a455feccc1131f9f": {
     "views": [
      {
       "cell_index": 2
      }
     ]
    },
    "f5a22e7a82904c86b048ffe1fc4de412": {
     "views": [
      {
       "cell_index": 2
      }
     ]
    }
   },
   "version": "1.2.0"
  }
 },
 "nbformat": 4,
 "nbformat_minor": 2
}
